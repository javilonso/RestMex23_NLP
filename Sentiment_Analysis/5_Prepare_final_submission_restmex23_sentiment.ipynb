{
 "cells": [
  {
   "cell_type": "code",
   "execution_count": null,
   "metadata": {
    "colab": {
     "base_uri": "https://localhost:8080/"
    },
    "id": "lSwe1kzrk4jM",
    "outputId": "3db52210-7c9c-46a4-f579-c8e9196ab951"
   },
   "outputs": [
    {
     "name": "stdout",
     "output_type": "stream",
     "text": [
      "Mounted at /content/drive\n"
     ]
    }
   ],
   "source": [
    "# Load the Drive helper and mount\n",
    "from google.colab import drive\n",
    "drive.mount('/content/drive')\n"
   ]
  },
  {
   "cell_type": "code",
   "execution_count": null,
   "metadata": {
    "id": "F1cK22TUk_ld"
   },
   "outputs": [],
   "source": [
    "import numpy as np\n",
    "type1='drive/My Drive/RestMex23/Sentiment_Analysis/test_Rest-Mex-2023/pred_type.npy'\n",
    "\n",
    "ctr1='drive/My Drive/RestMex23/Sentiment_Analysis/test_Rest-Mex-2023/pred_ctr1.npy'\n",
    "ctr2='drive/My Drive/RestMex23/Sentiment_Analysis/test_Rest-Mex-2023/pred_ctr_v2lr.npy'\n",
    "\n",
    "pol1='drive/My Drive/RestMex23/Sentiment_Analysis/test_Rest-Mex-2023/pred_pol4_epoch7.npy'\n",
    "pol2='drive/My Drive/RestMex23/Sentiment_Analysis/test_Rest-Mex-2023/pred_pol4_epoch6_v2.npy'\n",
    "\n",
    "pol3='drive/My Drive/RestMex23/Sentiment_Analysis/test_Rest-Mex-2023/pred_pol4_plant_epoch2.npy'\n",
    "pol4='drive/My Drive/RestMex23/Sentiment_Analysis/test_Rest-Mex-2023/pred_pol4_plant_epoch3_v2.npy'\n",
    "\n",
    "pol5='drive/My Drive/RestMex23/Sentiment_Analysis/test_Rest-Mex-2023/pred_pol2_cardiff.npy'\n",
    "\n",
    "arr_type1 = np.load(type1, allow_pickle=True)\n",
    "arr_ctr1 = np.load(ctr1, allow_pickle=True)\n",
    "arr_ctr2 = np.load(ctr2, allow_pickle=True)\n",
    "arr_pol1 = np.load(pol1, allow_pickle=True)\n",
    "arr_pol2 = np.load(pol2, allow_pickle=True)\n",
    "arr_pol3 = np.load(pol3, allow_pickle=True)\n",
    "arr_pol4 = np.load(pol4, allow_pickle=True)\n",
    "arr_pol5 = np.load(pol5, allow_pickle=True)\n"
   ]
  },
  {
   "cell_type": "code",
   "execution_count": null,
   "metadata": {
    "id": "D7S_GIY6mOBH"
   },
   "outputs": [],
   "source": [
    "submissions = {\n",
    "    'sub1': [arr_pol1, arr_type1, arr_ctr1],\n",
    "    'sub2': [arr_pol1, arr_type1, arr_ctr2],\n",
    "    'sub3': [arr_pol2, arr_type1, arr_ctr1],\n",
    "    'sub4': [arr_pol2, arr_type1, arr_ctr2],\n",
    "    'sub5': [arr_pol3, arr_type1, arr_ctr1],\n",
    "    'sub6': [arr_pol3, arr_type1, arr_ctr2],\n",
    "    'sub7': [arr_pol4, arr_type1, arr_ctr1],\n",
    "    'sub8': [arr_pol4, arr_type1, arr_ctr2],\n",
    "    'sub9': [arr_pol5, arr_type1, arr_ctr1],\n",
    "    'sub10': [arr_pol5, arr_type1, arr_ctr2],\n",
    "}"
   ]
  },
  {
   "cell_type": "code",
   "execution_count": null,
   "metadata": {
    "id": "z8v9FNuzmvbP"
   },
   "outputs": [],
   "source": [
    "for k in submissions:\n",
    "  with open(f'drive/My Drive/RestMex23/Sentiment_Analysis/test_Rest-Mex-2023/javier_alonso_sentiment_{k}.txt', 'w') as f:\n",
    "    for i in range(len(arr_type1)):\n",
    "      f.write(f'\"sentiment\"\\t\"{i}\"\\t\"{submissions[k][0][i]}\"\\t\"{submissions[k][1][i]}\"\\t\"{submissions[k][2][i]}\"\\n')"
   ]
  }
 ],
 "metadata": {
  "colab": {
   "provenance": []
  },
  "kernelspec": {
   "display_name": "Python 3 (ipykernel)",
   "language": "python",
   "name": "python3"
  },
  "language_info": {
   "codemirror_mode": {
    "name": "ipython",
    "version": 3
   },
   "file_extension": ".py",
   "mimetype": "text/x-python",
   "name": "python",
   "nbconvert_exporter": "python",
   "pygments_lexer": "ipython3",
   "version": "3.10.10"
  }
 },
 "nbformat": 4,
 "nbformat_minor": 4
}
