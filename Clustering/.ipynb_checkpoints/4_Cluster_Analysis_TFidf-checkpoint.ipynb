{
 "cells": [
  {
   "cell_type": "markdown",
   "id": "9ae73732-5940-4c4f-8246-f6c77cc39d70",
   "metadata": {},
   "source": [
    "# Understand the different clusters generated"
   ]
  },
  {
   "cell_type": "code",
   "execution_count": 1,
   "id": "c7b352ac-906f-4c28-879a-987167fd2583",
   "metadata": {},
   "outputs": [],
   "source": [
    "# Load cluster label for each instance [0-3]\n",
    "import numpy as np\n",
    "clusters_labels = np.load('/home/jovyan/work/RestMex23/Rest_Mex-2023_Track_Clustering/labels_spacy/labels_Kmeans_neig10_comp5.npy')"
   ]
  },
  {
   "cell_type": "code",
   "execution_count": 8,
   "id": "ed20b2a9-23b0-472b-a023-41f8f66e18b6",
   "metadata": {
    "tags": []
   },
   "outputs": [
    {
     "name": "stdout",
     "output_type": "stream",
     "text": [
      "   Unnamed: 0  ID                                               News\n",
      "0           0   0  28 marzo 2022 firma alianza estrategico uanl o...\n",
      "1           1   1  sección amenazar tiroteo escuela san nicolas n...\n",
      "2           2   2  amenazar tiroteo secundario nl movilizar autor...\n",
      "3           3   3  amenazar tiroteo alarmar papas secundario 17 s...\n",
      "4           4   4  tendencia mercado foto shutterstock lunes 28 m...\n"
     ]
    }
   ],
   "source": [
    "# load processed dataset (no punctuation, decoding, lemmatization, etc)\n",
    "import pandas as pd\n",
    "df = pd.read_csv('/home/jovyan/work/RestMex23/Rest_Mex-2023_Track_Clustering/df_spacymd.csv')\n",
    "print(df.head())"
   ]
  },
  {
   "cell_type": "code",
   "execution_count": 9,
   "id": "8f586545-8e20-41cf-95cb-0c1918fda3ca",
   "metadata": {
    "tags": []
   },
   "outputs": [],
   "source": [
    "df = df.drop([\"ID\", \"Unnamed: 0\"], axis=1)"
   ]
  },
  {
   "cell_type": "code",
   "execution_count": 18,
   "id": "a77f80a0-860b-4c1f-9917-50df13f7f769",
   "metadata": {
    "tags": []
   },
   "outputs": [],
   "source": [
    "docs_df = df.copy()\n",
    "docs_df[\"News\"] = docs_df[\"News\"].map(str)"
   ]
  },
  {
   "cell_type": "code",
   "execution_count": 19,
   "id": "3c457ae8-a19b-4f76-a922-5d86bb8106a8",
   "metadata": {
    "tags": []
   },
   "outputs": [
    {
     "data": {
      "text/html": [
       "<div>\n",
       "<style scoped>\n",
       "    .dataframe tbody tr th:only-of-type {\n",
       "        vertical-align: middle;\n",
       "    }\n",
       "\n",
       "    .dataframe tbody tr th {\n",
       "        vertical-align: top;\n",
       "    }\n",
       "\n",
       "    .dataframe thead th {\n",
       "        text-align: right;\n",
       "    }\n",
       "</style>\n",
       "<table border=\"1\" class=\"dataframe\">\n",
       "  <thead>\n",
       "    <tr style=\"text-align: right;\">\n",
       "      <th></th>\n",
       "      <th>News</th>\n",
       "    </tr>\n",
       "  </thead>\n",
       "  <tbody>\n",
       "    <tr>\n",
       "      <th>0</th>\n",
       "      <td>28 marzo 2022 firma alianza estrategico uanl o...</td>\n",
       "    </tr>\n",
       "    <tr>\n",
       "      <th>1</th>\n",
       "      <td>sección amenazar tiroteo escuela san nicolas n...</td>\n",
       "    </tr>\n",
       "    <tr>\n",
       "      <th>2</th>\n",
       "      <td>amenazar tiroteo secundario nl movilizar autor...</td>\n",
       "    </tr>\n",
       "    <tr>\n",
       "      <th>3</th>\n",
       "      <td>amenazar tiroteo alarmar papas secundario 17 s...</td>\n",
       "    </tr>\n",
       "    <tr>\n",
       "      <th>4</th>\n",
       "      <td>tendencia mercado foto shutterstock lunes 28 m...</td>\n",
       "    </tr>\n",
       "    <tr>\n",
       "      <th>...</th>\n",
       "      <td>...</td>\n",
       "    </tr>\n",
       "    <tr>\n",
       "      <th>114545</th>\n",
       "      <td>acerca cooki sitio utilizamos cooki personaliz...</td>\n",
       "    </tr>\n",
       "    <tr>\n",
       "      <th>114546</th>\n",
       "      <td>construir duna costero previo autorizacion sec...</td>\n",
       "    </tr>\n",
       "    <tr>\n",
       "      <th>114547</th>\n",
       "      <td>historia leonel reina interpretado ricardo aba...</td>\n",
       "    </tr>\n",
       "    <tr>\n",
       "      <th>114548</th>\n",
       "      <td>cantante infantil tatián encabezar programa mo...</td>\n",
       "    </tr>\n",
       "    <tr>\n",
       "      <th>114549</th>\n",
       "      <td>cadena television mtv anuncio exitoso serie je...</td>\n",
       "    </tr>\n",
       "  </tbody>\n",
       "</table>\n",
       "<p>114550 rows × 1 columns</p>\n",
       "</div>"
      ],
      "text/plain": [
       "                                                     News\n",
       "0       28 marzo 2022 firma alianza estrategico uanl o...\n",
       "1       sección amenazar tiroteo escuela san nicolas n...\n",
       "2       amenazar tiroteo secundario nl movilizar autor...\n",
       "3       amenazar tiroteo alarmar papas secundario 17 s...\n",
       "4       tendencia mercado foto shutterstock lunes 28 m...\n",
       "...                                                   ...\n",
       "114545  acerca cooki sitio utilizamos cooki personaliz...\n",
       "114546  construir duna costero previo autorizacion sec...\n",
       "114547  historia leonel reina interpretado ricardo aba...\n",
       "114548  cantante infantil tatián encabezar programa mo...\n",
       "114549  cadena television mtv anuncio exitoso serie je...\n",
       "\n",
       "[114550 rows x 1 columns]"
      ]
     },
     "execution_count": 19,
     "metadata": {},
     "output_type": "execute_result"
    }
   ],
   "source": [
    "docs_df"
   ]
  },
  {
   "cell_type": "code",
   "execution_count": 26,
   "id": "bd624688-ddcd-40f5-abe3-d31903481c94",
   "metadata": {
    "tags": []
   },
   "outputs": [],
   "source": [
    "# Insert inferred cluster labels as \"Topic\"\n",
    "docs_df = pd.DataFrame(df['News'].tolist(), columns=[\"Doc\"])\n",
    "docs_df['Topic'] = clusters_labels\n",
    "docs_df['Doc_ID'] = range(len(docs_df))"
   ]
  },
  {
   "cell_type": "code",
   "execution_count": 29,
   "id": "78d61879-0e91-4207-a417-25c9974d1cd4",
   "metadata": {
    "tags": []
   },
   "outputs": [
    {
     "data": {
      "text/html": [
       "<div>\n",
       "<style scoped>\n",
       "    .dataframe tbody tr th:only-of-type {\n",
       "        vertical-align: middle;\n",
       "    }\n",
       "\n",
       "    .dataframe tbody tr th {\n",
       "        vertical-align: top;\n",
       "    }\n",
       "\n",
       "    .dataframe thead th {\n",
       "        text-align: right;\n",
       "    }\n",
       "</style>\n",
       "<table border=\"1\" class=\"dataframe\">\n",
       "  <thead>\n",
       "    <tr style=\"text-align: right;\">\n",
       "      <th></th>\n",
       "      <th>Doc</th>\n",
       "      <th>Topic</th>\n",
       "      <th>Doc_ID</th>\n",
       "    </tr>\n",
       "  </thead>\n",
       "  <tbody>\n",
       "    <tr>\n",
       "      <th>0</th>\n",
       "      <td>28 marzo 2022 firma alianza estrategico uanl o...</td>\n",
       "      <td>2</td>\n",
       "      <td>0</td>\n",
       "    </tr>\n",
       "    <tr>\n",
       "      <th>1</th>\n",
       "      <td>sección amenazar tiroteo escuela san nicolas n...</td>\n",
       "      <td>3</td>\n",
       "      <td>1</td>\n",
       "    </tr>\n",
       "    <tr>\n",
       "      <th>2</th>\n",
       "      <td>amenazar tiroteo secundario nl movilizar autor...</td>\n",
       "      <td>3</td>\n",
       "      <td>2</td>\n",
       "    </tr>\n",
       "    <tr>\n",
       "      <th>3</th>\n",
       "      <td>amenazar tiroteo alarmar papas secundario 17 s...</td>\n",
       "      <td>3</td>\n",
       "      <td>3</td>\n",
       "    </tr>\n",
       "    <tr>\n",
       "      <th>4</th>\n",
       "      <td>tendencia mercado foto shutterstock lunes 28 m...</td>\n",
       "      <td>2</td>\n",
       "      <td>4</td>\n",
       "    </tr>\n",
       "    <tr>\n",
       "      <th>...</th>\n",
       "      <td>...</td>\n",
       "      <td>...</td>\n",
       "      <td>...</td>\n",
       "    </tr>\n",
       "    <tr>\n",
       "      <th>114545</th>\n",
       "      <td>acerca cooki sitio utilizamos cooki personaliz...</td>\n",
       "      <td>1</td>\n",
       "      <td>114545</td>\n",
       "    </tr>\n",
       "    <tr>\n",
       "      <th>114546</th>\n",
       "      <td>construir duna costero previo autorizacion sec...</td>\n",
       "      <td>2</td>\n",
       "      <td>114546</td>\n",
       "    </tr>\n",
       "    <tr>\n",
       "      <th>114547</th>\n",
       "      <td>historia leonel reina interpretado ricardo aba...</td>\n",
       "      <td>0</td>\n",
       "      <td>114547</td>\n",
       "    </tr>\n",
       "    <tr>\n",
       "      <th>114548</th>\n",
       "      <td>cantante infantil tatián encabezar programa mo...</td>\n",
       "      <td>0</td>\n",
       "      <td>114548</td>\n",
       "    </tr>\n",
       "    <tr>\n",
       "      <th>114549</th>\n",
       "      <td>cadena television mtv anuncio exitoso serie je...</td>\n",
       "      <td>2</td>\n",
       "      <td>114549</td>\n",
       "    </tr>\n",
       "  </tbody>\n",
       "</table>\n",
       "<p>114550 rows × 3 columns</p>\n",
       "</div>"
      ],
      "text/plain": [
       "                                                      Doc  Topic  Doc_ID\n",
       "0       28 marzo 2022 firma alianza estrategico uanl o...      2       0\n",
       "1       sección amenazar tiroteo escuela san nicolas n...      3       1\n",
       "2       amenazar tiroteo secundario nl movilizar autor...      3       2\n",
       "3       amenazar tiroteo alarmar papas secundario 17 s...      3       3\n",
       "4       tendencia mercado foto shutterstock lunes 28 m...      2       4\n",
       "...                                                   ...    ...     ...\n",
       "114545  acerca cooki sitio utilizamos cooki personaliz...      1  114545\n",
       "114546  construir duna costero previo autorizacion sec...      2  114546\n",
       "114547  historia leonel reina interpretado ricardo aba...      0  114547\n",
       "114548  cantante infantil tatián encabezar programa mo...      0  114548\n",
       "114549  cadena television mtv anuncio exitoso serie je...      2  114549\n",
       "\n",
       "[114550 rows x 3 columns]"
      ]
     },
     "execution_count": 29,
     "metadata": {},
     "output_type": "execute_result"
    }
   ],
   "source": [
    "docs_df"
   ]
  },
  {
   "cell_type": "markdown",
   "id": "f76bc567-848e-4dec-b645-1d05e1d6b6d8",
   "metadata": {},
   "source": [
    "# TF-IDF model"
   ]
  },
  {
   "cell_type": "code",
   "execution_count": 34,
   "id": "22936a8d-e912-4154-915e-39556f09ddf4",
   "metadata": {},
   "outputs": [],
   "source": [
    "import pandas as pd\n",
    "docs_df = pd.DataFrame(df['News'].map(str).tolist(), columns=[\"Doc\"])\n",
    "docs_df['Topic'] = clusters_labels\n",
    "docs_df['Doc_ID'] = range(len(docs_df))\n",
    "docs_per_topic = docs_df.groupby(['Topic'], as_index = False).agg({'Doc': ' '.join})"
   ]
  },
  {
   "cell_type": "code",
   "execution_count": 38,
   "id": "70a51282-c4db-4aa2-a9b3-3f7c13b3b4fb",
   "metadata": {
    "tags": []
   },
   "outputs": [],
   "source": [
    "import numpy as np\n",
    "from sklearn.feature_extraction.text import CountVectorizer\n",
    "\n",
    "def c_tf_idf(documents, m, ngram_range=(1, 1)):\n",
    "    count = CountVectorizer(ngram_range=ngram_range, stop_words=\"english\").fit(documents)\n",
    "    t = count.transform(documents).toarray()\n",
    "    w = t.sum(axis=1)\n",
    "    tf = np.divide(t.T, w)\n",
    "    sum_t = t.sum(axis=0)\n",
    "    idf = np.log(np.divide(m, sum_t)).reshape(-1, 1)\n",
    "    tf_idf = np.multiply(tf, idf)\n",
    "\n",
    "    return tf_idf, count\n",
    "  \n",
    "tf_idf, count = c_tf_idf(docs_per_topic.Doc.values, m=len(clusters_labels))"
   ]
  },
  {
   "cell_type": "code",
   "execution_count": 39,
   "id": "275f70f4-6e6b-41cb-81d5-e16ccdec291d",
   "metadata": {
    "tags": []
   },
   "outputs": [
    {
     "data": {
      "text/html": [
       "<div>\n",
       "<style scoped>\n",
       "    .dataframe tbody tr th:only-of-type {\n",
       "        vertical-align: middle;\n",
       "    }\n",
       "\n",
       "    .dataframe tbody tr th {\n",
       "        vertical-align: top;\n",
       "    }\n",
       "\n",
       "    .dataframe thead th {\n",
       "        text-align: right;\n",
       "    }\n",
       "</style>\n",
       "<table border=\"1\" class=\"dataframe\">\n",
       "  <thead>\n",
       "    <tr style=\"text-align: right;\">\n",
       "      <th></th>\n",
       "      <th>Topic</th>\n",
       "      <th>Size</th>\n",
       "    </tr>\n",
       "  </thead>\n",
       "  <tbody>\n",
       "    <tr>\n",
       "      <th>3</th>\n",
       "      <td>3</td>\n",
       "      <td>45091</td>\n",
       "    </tr>\n",
       "    <tr>\n",
       "      <th>2</th>\n",
       "      <td>2</td>\n",
       "      <td>31441</td>\n",
       "    </tr>\n",
       "    <tr>\n",
       "      <th>0</th>\n",
       "      <td>0</td>\n",
       "      <td>22023</td>\n",
       "    </tr>\n",
       "    <tr>\n",
       "      <th>1</th>\n",
       "      <td>1</td>\n",
       "      <td>15995</td>\n",
       "    </tr>\n",
       "  </tbody>\n",
       "</table>\n",
       "</div>"
      ],
      "text/plain": [
       "   Topic   Size\n",
       "3      3  45091\n",
       "2      2  31441\n",
       "0      0  22023\n",
       "1      1  15995"
      ]
     },
     "execution_count": 39,
     "metadata": {},
     "output_type": "execute_result"
    }
   ],
   "source": [
    "def extract_top_n_words_per_topic(tf_idf, count, docs_per_topic, n=20):\n",
    "    words = count.get_feature_names_out()\n",
    "    labels = list(docs_per_topic.Topic)\n",
    "    tf_idf_transposed = tf_idf.T\n",
    "    indices = tf_idf_transposed.argsort()[:, -n:]\n",
    "    top_n_words = {label: [(words[j], tf_idf_transposed[i][j]) for j in indices[i]][::-1] for i, label in enumerate(labels)}\n",
    "    return top_n_words\n",
    "\n",
    "def extract_topic_sizes(df):\n",
    "    topic_sizes = (df.groupby(['Topic'])\n",
    "                     .Doc\n",
    "                     .count()\n",
    "                     .reset_index()\n",
    "                     .rename({\"Topic\": \"Topic\", \"Doc\": \"Size\"}, axis='columns')\n",
    "                     .sort_values(\"Size\", ascending=False))\n",
    "    return topic_sizes\n",
    "\n",
    "top_n_words = extract_top_n_words_per_topic(tf_idf, count, docs_per_topic, n=20)\n",
    "topic_sizes = extract_topic_sizes(docs_df); topic_sizes.head(10)"
   ]
  },
  {
   "cell_type": "markdown",
   "id": "e1992f26-d7d4-42e3-9219-d2db1ce73d53",
   "metadata": {},
   "source": [
    "# Most common words per cluster"
   ]
  },
  {
   "cell_type": "code",
   "execution_count": 41,
   "id": "d1aa686c-c12f-48cc-b226-bbb8c1a6c275",
   "metadata": {
    "tags": []
   },
   "outputs": [
    {
     "data": {
      "text/plain": [
       "{0: [('escrito', 0.0031776270268811893),\n",
       "  ('por', 0.002866297305800841),\n",
       "  ('nota', 0.002648821119025581),\n",
       "  ('publicado', 0.0025479616410024808),\n",
       "  ('notificación', 0.002536468272579652),\n",
       "  ('actriz', 0.002300699795688645),\n",
       "  ('cantante', 0.0020015843253430553),\n",
       "  ('instagram', 0.0020013393383514506),\n",
       "  ('compartir', 0.0019925841766464196),\n",
       "  ('video', 0.0019819187018973853),\n",
       "  ('actor', 0.0019750202003005262),\n",
       "  ('minuto', 0.0019421704896314669),\n",
       "  ('debate', 0.0019297807394859342),\n",
       "  ('amor', 0.0019113414518992893),\n",
       "  ('historia', 0.0018335172537408575),\n",
       "  ('yo', 0.0018207845473598547),\n",
       "  ('azteco', 0.0018197315453195987),\n",
       "  ('mundo', 0.0017779640640272305),\n",
       "  ('azteca', 0.0017763536850371946),\n",
       "  ('siempre', 0.0017717556396960382)],\n",
       " 1: [('cooki', 0.004481418497399702),\n",
       "  ('personalizar', 0.0033974771976245134),\n",
       "  ('utilizamos', 0.0033953436208281193),\n",
       "  ('sol', 0.0033913288924845753),\n",
       "  ('optimizar', 0.003382895656647558),\n",
       "  ('clic', 0.003370072845716296),\n",
       "  ('acordar', 0.003155917842272759),\n",
       "  ('acerca', 0.003114632585515393),\n",
       "  ('usted', 0.0030712936472641374),\n",
       "  ('mejorar', 0.0029970631929894867),\n",
       "  ('aceptar', 0.002887610768796308),\n",
       "  ('sitio', 0.0027404358601642947),\n",
       "  ('ofrecer', 0.002733190259950777),\n",
       "  ('experiencia', 0.0026963328993089243),\n",
       "  ('publicidad', 0.0025472036700453274),\n",
       "  ('visitar', 0.002331348942712636),\n",
       "  ('uso', 0.0022382682876840553),\n",
       "  ('precio', 0.0018057121670484954),\n",
       "  ('pesos', 0.0016498348278035486),\n",
       "  ('tampico', 0.001601137102470633)],\n",
       " 2: [('turismo', 0.0021670139712124154),\n",
       "  ('maya', 0.0020980643829013722),\n",
       "  ('turistico', 0.0019849335344842953),\n",
       "  ('salud', 0.0018795145141102321),\n",
       "  ('desarrollo', 0.0018034265249126816),\n",
       "  ('agua', 0.0017239493323239162),\n",
       "  ('proyecto', 0.0016925201680134784),\n",
       "  ('merida', 0.0016822712381034672),\n",
       "  ('educacion', 0.0016199884351416128),\n",
       "  ('roo', 0.001609036157836159),\n",
       "  ('millón', 0.0016070640675727144),\n",
       "  ('sector', 0.0016032517243277239),\n",
       "  ('covid19', 0.0015997823402501988),\n",
       "  ('empresa', 0.0015898312040014417),\n",
       "  ('ciento', 0.0015237803422875978),\n",
       "  ('economico', 0.0014661038601188718),\n",
       "  ('nivel', 0.0014511119674389297),\n",
       "  ('programa', 0.0014414135728011588),\n",
       "  ('vila', 0.0014337308383192803),\n",
       "  ('internacional', 0.0014266576827588191)],\n",
       " 3: [('violencia', 0.0019212005411421542),\n",
       "  ('fiscalia', 0.0019003966320033298),\n",
       "  ('delito', 0.001847896526192319),\n",
       "  ('cartel', 0.001825710370519008),\n",
       "  ('victima', 0.0017463106302241388),\n",
       "  ('homicidio', 0.0017195924308134396),\n",
       "  ('arma', 0.0017185440017499062),\n",
       "  ('guardia', 0.0016872826513108015),\n",
       "  ('detenido', 0.001636329770413979),\n",
       "  ('policia', 0.0016335473563330615),\n",
       "  ('135', 0.0016240200273144021),\n",
       "  ('min', 0.001619130923408043),\n",
       "  ('reproducción', 0.0016170309814423287),\n",
       "  ('armado', 0.001613697310520909),\n",
       "  ('criminal', 0.0016050835543880734),\n",
       "  ('investigacion', 0.0016015536452064047),\n",
       "  ('lectura', 0.0015927002884697646),\n",
       "  ('politico', 0.001581440032365253),\n",
       "  ('vehiculo', 0.0015747602231787037),\n",
       "  ('elemento', 0.0015675784112059623)]}"
      ]
     },
     "execution_count": 41,
     "metadata": {},
     "output_type": "execute_result"
    }
   ],
   "source": [
    "top_n_words"
   ]
  }
 ],
 "metadata": {
  "kernelspec": {
   "display_name": "Python 3 (ipykernel)",
   "language": "python",
   "name": "python3"
  },
  "language_info": {
   "codemirror_mode": {
    "name": "ipython",
    "version": 3
   },
   "file_extension": ".py",
   "mimetype": "text/x-python",
   "name": "python",
   "nbconvert_exporter": "python",
   "pygments_lexer": "ipython3",
   "version": "3.10.10"
  }
 },
 "nbformat": 4,
 "nbformat_minor": 5
}
