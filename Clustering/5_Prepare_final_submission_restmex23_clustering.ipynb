{
 "cells": [
  {
   "cell_type": "markdown",
   "id": "b57e10a3-5c4f-4aa4-90d7-83fac102a279",
   "metadata": {},
   "source": [
    "# Generate final txt for competition, cluster labels [1-4]"
   ]
  },
  {
   "cell_type": "code",
   "execution_count": 19,
   "id": "aea75761-81b6-425d-903a-7d861deab057",
   "metadata": {
    "tags": []
   },
   "outputs": [],
   "source": [
    "import numpy as np\n",
    "clusters_labels = np.load('/home/jovyan/work/RestMex23/Rest_Mex-2023_Track_Clustering/labels_spacy/labels_Kmeans_neig10_comp5.npy')"
   ]
  },
  {
   "cell_type": "code",
   "execution_count": 21,
   "id": "edd31f33-6a50-4fb3-82a8-c78e389cd46d",
   "metadata": {
    "tags": []
   },
   "outputs": [],
   "source": [
    "clusters_labels = clusters_labels+1"
   ]
  },
  {
   "cell_type": "code",
   "execution_count": 22,
   "id": "fa6e4d33-3b26-4a5b-9961-41459142a9d8",
   "metadata": {
    "tags": []
   },
   "outputs": [
    {
     "data": {
      "text/plain": [
       "array([3, 4, 4, ..., 1, 1, 3], dtype=int32)"
      ]
     },
     "execution_count": 22,
     "metadata": {},
     "output_type": "execute_result"
    }
   ],
   "source": [
    "clusters_labels"
   ]
  },
  {
   "cell_type": "code",
   "execution_count": 23,
   "id": "369625ce-c5f7-481b-94c7-660c3779b149",
   "metadata": {
    "tags": []
   },
   "outputs": [],
   "source": [
    "with open(\"submission_spacy_kmeans10_5.txt\", \"w\") as f:\n",
    "    for index, e in enumerate(clusters_labels):\n",
    "        f.write(f'thematic\"\\t\"{str(index)}\"\\t\"{str(e)}\"\\n')"
   ]
  }
 ],
 "metadata": {
  "kernelspec": {
   "display_name": "Python 3 (ipykernel)",
   "language": "python",
   "name": "python3"
  },
  "language_info": {
   "codemirror_mode": {
    "name": "ipython",
    "version": 3
   },
   "file_extension": ".py",
   "mimetype": "text/x-python",
   "name": "python",
   "nbconvert_exporter": "python",
   "pygments_lexer": "ipython3",
   "version": "3.10.10"
  }
 },
 "nbformat": 4,
 "nbformat_minor": 5
}
